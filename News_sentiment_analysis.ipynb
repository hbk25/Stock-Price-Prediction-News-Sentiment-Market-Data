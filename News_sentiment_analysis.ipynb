{
 "cells": [
  {
   "cell_type": "code",
   "execution_count": 1,
   "id": "a960f94b-7de5-4cc1-81dc-86227eb83eb2",
   "metadata": {},
   "outputs": [],
   "source": [
    "import pandas as pd\n",
    "import numpy as np\n",
    "import matplotlib.pyplot as plt\n",
    "news_data = pd.read_csv('historical news data/news_tesla.csv')"
   ]
  },
  {
   "cell_type": "code",
   "execution_count": 74,
   "id": "4fe2944b-868a-4fa5-8484-08b7b24beaa2",
   "metadata": {},
   "outputs": [
    {
     "data": {
      "text/html": [
       "<div>\n",
       "<style scoped>\n",
       "    .dataframe tbody tr th:only-of-type {\n",
       "        vertical-align: middle;\n",
       "    }\n",
       "\n",
       "    .dataframe tbody tr th {\n",
       "        vertical-align: top;\n",
       "    }\n",
       "\n",
       "    .dataframe thead th {\n",
       "        text-align: right;\n",
       "    }\n",
       "</style>\n",
       "<table border=\"1\" class=\"dataframe\">\n",
       "  <thead>\n",
       "    <tr style=\"text-align: right;\">\n",
       "      <th></th>\n",
       "      <th>author</th>\n",
       "      <th>content</th>\n",
       "      <th>created_at</th>\n",
       "      <th>headline</th>\n",
       "      <th>id</th>\n",
       "      <th>images</th>\n",
       "      <th>source</th>\n",
       "      <th>summary</th>\n",
       "      <th>symbols</th>\n",
       "      <th>updated_at</th>\n",
       "      <th>url</th>\n",
       "    </tr>\n",
       "  </thead>\n",
       "  <tbody>\n",
       "    <tr>\n",
       "      <th>0</th>\n",
       "      <td>Chris Katje</td>\n",
       "      <td>NaN</td>\n",
       "      <td>2024-07-31T16:04:37Z</td>\n",
       "      <td>Nancy Pelosi Loads Up On More Nvidia Shares, S...</td>\n",
       "      <td>40074372</td>\n",
       "      <td>[{'size': 'large', 'url': 'https://cdn.benzing...</td>\n",
       "      <td>benzinga</td>\n",
       "      <td>Nancy Pelosi and husband Paul Pelosi have adde...</td>\n",
       "      <td>['KRUZ', 'MSFT', 'NANC', 'NVDA', 'TSLA']</td>\n",
       "      <td>2024-07-31T16:04:37Z</td>\n",
       "      <td>https://www.benzinga.com/general/politics/24/0...</td>\n",
       "    </tr>\n",
       "    <tr>\n",
       "      <th>1</th>\n",
       "      <td>The Arora Report</td>\n",
       "      <td>NaN</td>\n",
       "      <td>2024-07-31T15:38:54Z</td>\n",
       "      <td>Oversold Condition And China Loophole Overpowe...</td>\n",
       "      <td>40073627</td>\n",
       "      <td>[{'size': 'large', 'url': 'https://cdn.benzing...</td>\n",
       "      <td>benzinga</td>\n",
       "      <td>To gain an edge, this is what you need to know...</td>\n",
       "      <td>['AAPL', 'AMD', 'AMZN', 'BA', 'BTCUSD', 'DD', ...</td>\n",
       "      <td>2024-07-31T15:40:39Z</td>\n",
       "      <td>https://www.benzinga.com/markets/asia/24/07/40...</td>\n",
       "    </tr>\n",
       "    <tr>\n",
       "      <th>2</th>\n",
       "      <td>Gary Brode</td>\n",
       "      <td>NaN</td>\n",
       "      <td>2024-07-31T15:18:03Z</td>\n",
       "      <td>5 Things To Know In Investing This Week: The E...</td>\n",
       "      <td>40072916</td>\n",
       "      <td>[{'size': 'large', 'url': 'https://cdn.benzing...</td>\n",
       "      <td>benzinga</td>\n",
       "      <td>We hit earnings season and with the Magnificen...</td>\n",
       "      <td>['BTCUSD', 'CHGG', 'COUR', 'GOOG', 'LVS', 'NFL...</td>\n",
       "      <td>2024-07-31T15:18:06Z</td>\n",
       "      <td>https://www.benzinga.com/markets/penny-stocks/...</td>\n",
       "    </tr>\n",
       "    <tr>\n",
       "      <th>3</th>\n",
       "      <td>RIPS</td>\n",
       "      <td>NaN</td>\n",
       "      <td>2024-07-31T14:15:58Z</td>\n",
       "      <td>Market Clubhouse Morning Memo - July 31st, 202...</td>\n",
       "      <td>40070509</td>\n",
       "      <td>[{'size': 'large', 'url': 'https://cdn.benzing...</td>\n",
       "      <td>benzinga</td>\n",
       "      <td>Good Morning Traders! In today&amp;#39;s Market Cl...</td>\n",
       "      <td>['AAPL', 'GOOGL', 'META', 'MSFT', 'NVDA', 'QQQ...</td>\n",
       "      <td>2024-07-31T14:16:37Z</td>\n",
       "      <td>https://www.benzinga.com/trading-ideas/24/07/4...</td>\n",
       "    </tr>\n",
       "    <tr>\n",
       "      <th>4</th>\n",
       "      <td>Benzinga Newsdesk</td>\n",
       "      <td>NaN</td>\n",
       "      <td>2024-07-31T13:18:14Z</td>\n",
       "      <td>Top 10 Trending Stocks On WallStreetBets As Of...</td>\n",
       "      <td>40068685</td>\n",
       "      <td>[]</td>\n",
       "      <td>benzinga</td>\n",
       "      <td>NaN</td>\n",
       "      <td>['AI', 'AMD', 'BA', 'MADE', 'META', 'MSFT', 'N...</td>\n",
       "      <td>2024-07-31T13:18:15Z</td>\n",
       "      <td>https://www.benzinga.com/trading-ideas/24/07/4...</td>\n",
       "    </tr>\n",
       "  </tbody>\n",
       "</table>\n",
       "</div>"
      ],
      "text/plain": [
       "              author  content            created_at  \\\n",
       "0        Chris Katje      NaN  2024-07-31T16:04:37Z   \n",
       "1   The Arora Report      NaN  2024-07-31T15:38:54Z   \n",
       "2         Gary Brode      NaN  2024-07-31T15:18:03Z   \n",
       "3               RIPS      NaN  2024-07-31T14:15:58Z   \n",
       "4  Benzinga Newsdesk      NaN  2024-07-31T13:18:14Z   \n",
       "\n",
       "                                            headline        id  \\\n",
       "0  Nancy Pelosi Loads Up On More Nvidia Shares, S...  40074372   \n",
       "1  Oversold Condition And China Loophole Overpowe...  40073627   \n",
       "2  5 Things To Know In Investing This Week: The E...  40072916   \n",
       "3  Market Clubhouse Morning Memo - July 31st, 202...  40070509   \n",
       "4  Top 10 Trending Stocks On WallStreetBets As Of...  40068685   \n",
       "\n",
       "                                              images    source  \\\n",
       "0  [{'size': 'large', 'url': 'https://cdn.benzing...  benzinga   \n",
       "1  [{'size': 'large', 'url': 'https://cdn.benzing...  benzinga   \n",
       "2  [{'size': 'large', 'url': 'https://cdn.benzing...  benzinga   \n",
       "3  [{'size': 'large', 'url': 'https://cdn.benzing...  benzinga   \n",
       "4                                                 []  benzinga   \n",
       "\n",
       "                                             summary  \\\n",
       "0  Nancy Pelosi and husband Paul Pelosi have adde...   \n",
       "1  To gain an edge, this is what you need to know...   \n",
       "2  We hit earnings season and with the Magnificen...   \n",
       "3  Good Morning Traders! In today&#39;s Market Cl...   \n",
       "4                                                NaN   \n",
       "\n",
       "                                             symbols            updated_at  \\\n",
       "0           ['KRUZ', 'MSFT', 'NANC', 'NVDA', 'TSLA']  2024-07-31T16:04:37Z   \n",
       "1  ['AAPL', 'AMD', 'AMZN', 'BA', 'BTCUSD', 'DD', ...  2024-07-31T15:40:39Z   \n",
       "2  ['BTCUSD', 'CHGG', 'COUR', 'GOOG', 'LVS', 'NFL...  2024-07-31T15:18:06Z   \n",
       "3  ['AAPL', 'GOOGL', 'META', 'MSFT', 'NVDA', 'QQQ...  2024-07-31T14:16:37Z   \n",
       "4  ['AI', 'AMD', 'BA', 'MADE', 'META', 'MSFT', 'N...  2024-07-31T13:18:15Z   \n",
       "\n",
       "                                                 url  \n",
       "0  https://www.benzinga.com/general/politics/24/0...  \n",
       "1  https://www.benzinga.com/markets/asia/24/07/40...  \n",
       "2  https://www.benzinga.com/markets/penny-stocks/...  \n",
       "3  https://www.benzinga.com/trading-ideas/24/07/4...  \n",
       "4  https://www.benzinga.com/trading-ideas/24/07/4...  "
      ]
     },
     "execution_count": 74,
     "metadata": {},
     "output_type": "execute_result"
    }
   ],
   "source": [
    "news_data.head()"
   ]
  },
  {
   "cell_type": "code",
   "execution_count": 77,
   "id": "8a99a8f2-c7e0-46bb-939e-9b0a5871da29",
   "metadata": {},
   "outputs": [
    {
     "data": {
      "text/plain": [
       "author            0\n",
       "content       30301\n",
       "created_at        0\n",
       "headline          0\n",
       "id                0\n",
       "images            0\n",
       "source        15166\n",
       "summary       13096\n",
       "symbols           0\n",
       "updated_at        0\n",
       "url               0\n",
       "dtype: int64"
      ]
     },
     "execution_count": 77,
     "metadata": {},
     "output_type": "execute_result"
    }
   ],
   "source": [
    "news_data.isnull().sum()"
   ]
  },
  {
   "cell_type": "code",
   "execution_count": 79,
   "id": "b237d730-9ce8-4a50-ac17-4a524eaa71bc",
   "metadata": {},
   "outputs": [
    {
     "data": {
      "text/plain": [
       "author\n",
       "Benzinga Newsdesk                         4946\n",
       "Benzinga                                  4380\n",
       "Shanthi Rexaline                          2155\n",
       "Charles Gross                             1839\n",
       "Benzinga Insights                         1281\n",
       "                                          ... \n",
       "Jay Rubin                                    1\n",
       "True Trading Group                           1\n",
       "Michael Peres                                1\n",
       "Utkarsh Roshan                               1\n",
       "The Financially Independent Millennial       1\n",
       "Name: count, Length: 233, dtype: int64"
      ]
     },
     "execution_count": 79,
     "metadata": {},
     "output_type": "execute_result"
    }
   ],
   "source": [
    "news_data['author'].value_counts()"
   ]
  },
  {
   "cell_type": "code",
   "execution_count": 81,
   "id": "10a19f04-3c86-4750-92be-19e3e483c6ba",
   "metadata": {},
   "outputs": [],
   "source": [
    "news_data.drop(columns = ['author','content','images','source','symbols','url','updated_at'],inplace=True)"
   ]
  },
  {
   "cell_type": "code",
   "execution_count": 83,
   "id": "a6e81632-c05f-405e-8cb0-3b36ce6f2aa4",
   "metadata": {},
   "outputs": [
    {
     "data": {
      "text/html": [
       "<div>\n",
       "<style scoped>\n",
       "    .dataframe tbody tr th:only-of-type {\n",
       "        vertical-align: middle;\n",
       "    }\n",
       "\n",
       "    .dataframe tbody tr th {\n",
       "        vertical-align: top;\n",
       "    }\n",
       "\n",
       "    .dataframe thead th {\n",
       "        text-align: right;\n",
       "    }\n",
       "</style>\n",
       "<table border=\"1\" class=\"dataframe\">\n",
       "  <thead>\n",
       "    <tr style=\"text-align: right;\">\n",
       "      <th></th>\n",
       "      <th>created_at</th>\n",
       "      <th>headline</th>\n",
       "      <th>id</th>\n",
       "      <th>summary</th>\n",
       "    </tr>\n",
       "  </thead>\n",
       "  <tbody>\n",
       "    <tr>\n",
       "      <th>0</th>\n",
       "      <td>2024-07-31T16:04:37Z</td>\n",
       "      <td>Nancy Pelosi Loads Up On More Nvidia Shares, S...</td>\n",
       "      <td>40074372</td>\n",
       "      <td>Nancy Pelosi and husband Paul Pelosi have adde...</td>\n",
       "    </tr>\n",
       "    <tr>\n",
       "      <th>1</th>\n",
       "      <td>2024-07-31T15:38:54Z</td>\n",
       "      <td>Oversold Condition And China Loophole Overpowe...</td>\n",
       "      <td>40073627</td>\n",
       "      <td>To gain an edge, this is what you need to know...</td>\n",
       "    </tr>\n",
       "    <tr>\n",
       "      <th>2</th>\n",
       "      <td>2024-07-31T15:18:03Z</td>\n",
       "      <td>5 Things To Know In Investing This Week: The E...</td>\n",
       "      <td>40072916</td>\n",
       "      <td>We hit earnings season and with the Magnificen...</td>\n",
       "    </tr>\n",
       "    <tr>\n",
       "      <th>3</th>\n",
       "      <td>2024-07-31T14:15:58Z</td>\n",
       "      <td>Market Clubhouse Morning Memo - July 31st, 202...</td>\n",
       "      <td>40070509</td>\n",
       "      <td>Good Morning Traders! In today&amp;#39;s Market Cl...</td>\n",
       "    </tr>\n",
       "    <tr>\n",
       "      <th>4</th>\n",
       "      <td>2024-07-31T13:18:14Z</td>\n",
       "      <td>Top 10 Trending Stocks On WallStreetBets As Of...</td>\n",
       "      <td>40068685</td>\n",
       "      <td>NaN</td>\n",
       "    </tr>\n",
       "  </tbody>\n",
       "</table>\n",
       "</div>"
      ],
      "text/plain": [
       "             created_at                                           headline  \\\n",
       "0  2024-07-31T16:04:37Z  Nancy Pelosi Loads Up On More Nvidia Shares, S...   \n",
       "1  2024-07-31T15:38:54Z  Oversold Condition And China Loophole Overpowe...   \n",
       "2  2024-07-31T15:18:03Z  5 Things To Know In Investing This Week: The E...   \n",
       "3  2024-07-31T14:15:58Z  Market Clubhouse Morning Memo - July 31st, 202...   \n",
       "4  2024-07-31T13:18:14Z  Top 10 Trending Stocks On WallStreetBets As Of...   \n",
       "\n",
       "         id                                            summary  \n",
       "0  40074372  Nancy Pelosi and husband Paul Pelosi have adde...  \n",
       "1  40073627  To gain an edge, this is what you need to know...  \n",
       "2  40072916  We hit earnings season and with the Magnificen...  \n",
       "3  40070509  Good Morning Traders! In today&#39;s Market Cl...  \n",
       "4  40068685                                                NaN  "
      ]
     },
     "execution_count": 83,
     "metadata": {},
     "output_type": "execute_result"
    }
   ],
   "source": [
    "news_data.head(5)"
   ]
  },
  {
   "cell_type": "code",
   "execution_count": 85,
   "id": "e45d56d0-5596-462a-902c-c405dda170a0",
   "metadata": {},
   "outputs": [
    {
     "name": "stderr",
     "output_type": "stream",
     "text": [
      "Some weights of the PyTorch model were not used when initializing the TF 2.0 model TFRobertaForSequenceClassification: ['roberta.embeddings.position_ids']\n",
      "- This IS expected if you are initializing TFRobertaForSequenceClassification from a PyTorch model trained on another task or with another architecture (e.g. initializing a TFBertForSequenceClassification model from a BertForPreTraining model).\n",
      "- This IS NOT expected if you are initializing TFRobertaForSequenceClassification from a PyTorch model that you expect to be exactly identical (e.g. initializing a TFBertForSequenceClassification model from a BertForSequenceClassification model).\n",
      "All the weights of TFRobertaForSequenceClassification were initialized from the PyTorch model.\n",
      "If your task is similar to the task the model of the checkpoint was trained on, you can already use TFRobertaForSequenceClassification for predictions without further training.\n"
     ]
    }
   ],
   "source": [
    "# Use a pipeline as a high-level helper\n",
    "from transformers import pipeline\n",
    "\n",
    "pipe = pipeline(\"text-classification\", model=\"mrm8488/distilroberta-finetuned-financial-news-sentiment-analysis\")"
   ]
  },
  {
   "cell_type": "code",
   "execution_count": 118,
   "id": "2a1e54f4-8413-439a-8184-d091dddf9cd7",
   "metadata": {},
   "outputs": [],
   "source": [
    "import tensorflow as tf"
   ]
  },
  {
   "cell_type": "code",
   "execution_count": 111,
   "id": "791dbbf5-b88d-4eb0-aa3f-d59f70cf6f67",
   "metadata": {},
   "outputs": [
    {
     "name": "stderr",
     "output_type": "stream",
     "text": [
      "Some weights of the PyTorch model were not used when initializing the TF 2.0 model TFRobertaForSequenceClassification: ['roberta.embeddings.position_ids']\n",
      "- This IS expected if you are initializing TFRobertaForSequenceClassification from a PyTorch model trained on another task or with another architecture (e.g. initializing a TFBertForSequenceClassification model from a BertForPreTraining model).\n",
      "- This IS NOT expected if you are initializing TFRobertaForSequenceClassification from a PyTorch model that you expect to be exactly identical (e.g. initializing a TFBertForSequenceClassification model from a BertForSequenceClassification model).\n",
      "All the weights of TFRobertaForSequenceClassification were initialized from the PyTorch model.\n",
      "If your task is similar to the task the model of the checkpoint was trained on, you can already use TFRobertaForSequenceClassification for predictions without further training.\n"
     ]
    }
   ],
   "source": [
    "from transformers import AutoTokenizer, TFAutoModelForSequenceClassification\n",
    "\n",
    "tokenizer = AutoTokenizer.from_pretrained(\"mrm8488/distilroberta-finetuned-financial-news-sentiment-analysis\")\n",
    "model = TFAutoModelForSequenceClassification.from_pretrained(\"mrm8488/distilroberta-finetuned-financial-news-sentiment-analysis\")\n"
   ]
  },
  {
   "cell_type": "code",
   "execution_count": null,
   "id": "490772c3-8798-4e9c-811e-acc50f287b11",
   "metadata": {},
   "outputs": [],
   "source": [
    "\n",
    "# Define the labels and their corresponding sentiment scores\n",
    "labels = [\"negative\", \"neutral\", \"positive\"]\n",
    "label_scores = {\"negative\": -1, \"neutral\": 0, \"positive\": 1}\n",
    "\n",
    "def analyze_sentiment(text):\n",
    "    # Tokenize the input text and convert to tensors\n",
    "    inputs = tokenizer(text, return_tensors=\"tf\")\n",
    "\n",
    "    # Get model predictions\n",
    "    outputs = model(**inputs)\n",
    "    logits = outputs.logits\n",
    "\n",
    "    # Calculate softmax to get probabilities\n",
    "    probabilities = tf.nn.softmax(logits, axis=-1).numpy()[0]\n",
    "\n",
    "    # Compute the sentiment score as a weighted sum of the probabilities\n",
    "    sentiment_score = sum(probabilities[i] * label_scores[labels[i]] for i in range(len(labels)))\n",
    "\n",
    "    return sentiment_score\n",
    "\n",
    "\n",
    "# Function to determine the text to analyze\n",
    "def get_text_to_analyze(row):\n",
    "    return row['summary'] if pd.notna(row['summary']) else row['headline']\n",
    "\n",
    "# Apply sentiment analysis to the appropriate text in each row\n",
    "news_data['sentiment_score'] = news_data.apply(\n",
    "    lambda row: analyze_sentiment(get_text_to_analyze(row)), axis=1\n",
    ")\n",
    "\n",
    "# Display the DataFrame with the new column\n",
    "print(news_data)"
   ]
  },
  {
   "cell_type": "code",
   "execution_count": null,
   "id": "fac6b149-1474-4a23-83b7-2f32999d30af",
   "metadata": {},
   "outputs": [],
   "source": [
    "news_data['sentiment_score'] = news_data['sentiment_score'].round(4)"
   ]
  },
  {
   "cell_type": "code",
   "execution_count": null,
   "id": "cd84d5d2-e8ab-46a7-a16e-df9ca69a9e89",
   "metadata": {},
   "outputs": [],
   "source": [
    "# Function to extract date part and convert to datetime\n",
    "def extract_and_convert_date(timestamp):\n",
    "    date_str = timestamp.split('T')[0]\n",
    "    return pd.to_datetime(date_str)\n",
    "\n",
    "# Apply the function to the 'created_at' column\n",
    "news_data['date'] = news_data['created_at'].apply(extract_and_convert_date)"
   ]
  },
  {
   "cell_type": "code",
   "execution_count": null,
   "id": "4e47ba69-da07-4288-8854-4d4f2e0d211f",
   "metadata": {},
   "outputs": [],
   "source": [
    "# Set the 'date' column as the index\n",
    "news_data.set_index('date', inplace=True)\n",
    "news_data.sort_index(inplace=True)\n",
    "news_data.head()"
   ]
  },
  {
   "cell_type": "code",
   "execution_count": null,
   "id": "961dbc17-7801-48aa-80f6-304444a20ef3",
   "metadata": {},
   "outputs": [],
   "source": [
    "# Plot the sentiment scores over time\n",
    "plt.figure(figsize=(16, 8))\n",
    "plt.plot(news_data.index, news_data['sentiment_score'], label='sentiment')\n",
    "plt.title('Sentiment Score Over Time')\n",
    "plt.xlabel('Date')\n",
    "plt.ylabel('Sentiment Score')\n",
    "plt.legend(loc='lower right')\n",
    "plt.show()"
   ]
  },
  {
   "cell_type": "code",
   "execution_count": 14,
   "id": "9a4a8ace-6e20-4571-9e4f-725f5ef1b48e",
   "metadata": {},
   "outputs": [],
   "source": [
    "news_data = pd.read_csv('sentiment_tesla_colab.csv')"
   ]
  },
  {
   "cell_type": "code",
   "execution_count": 16,
   "id": "560315b9-e940-49f7-bdad-ecabb1273c7f",
   "metadata": {},
   "outputs": [
    {
     "data": {
      "text/html": [
       "<div>\n",
       "<style scoped>\n",
       "    .dataframe tbody tr th:only-of-type {\n",
       "        vertical-align: middle;\n",
       "    }\n",
       "\n",
       "    .dataframe tbody tr th {\n",
       "        vertical-align: top;\n",
       "    }\n",
       "\n",
       "    .dataframe thead th {\n",
       "        text-align: right;\n",
       "    }\n",
       "</style>\n",
       "<table border=\"1\" class=\"dataframe\">\n",
       "  <thead>\n",
       "    <tr style=\"text-align: right;\">\n",
       "      <th></th>\n",
       "      <th>created_at</th>\n",
       "      <th>headline</th>\n",
       "      <th>id</th>\n",
       "      <th>summary</th>\n",
       "      <th>sentiment_score</th>\n",
       "      <th>date</th>\n",
       "    </tr>\n",
       "  </thead>\n",
       "  <tbody>\n",
       "    <tr>\n",
       "      <th>0</th>\n",
       "      <td>2021-03-19T07:16:36Z</td>\n",
       "      <td>NFT Craze A Reminder Of Tulip Mania? Keep Calm...</td>\n",
       "      <td>20249346</td>\n",
       "      <td>The non-fungible tokens are mirroring a period...</td>\n",
       "      <td>0.0000</td>\n",
       "      <td>2021-03-19</td>\n",
       "    </tr>\n",
       "    <tr>\n",
       "      <th>1</th>\n",
       "      <td>2021-04-08T14:02:55Z</td>\n",
       "      <td>Facebook Beta Tests Hotline, Its Answer To Clu...</td>\n",
       "      <td>20538582</td>\n",
       "      <td>Facebook, Inc. (NASDAQ: FB) is beta testing Ho...</td>\n",
       "      <td>0.0000</td>\n",
       "      <td>2021-04-08</td>\n",
       "    </tr>\n",
       "    <tr>\n",
       "      <th>2</th>\n",
       "      <td>2021-06-25T16:30:26Z</td>\n",
       "      <td>Did Billionaire Elon Musk Sell All His Mansion...</td>\n",
       "      <td>21714362</td>\n",
       "      <td>Despite a wealth of $162.8 billion and title o...</td>\n",
       "      <td>-0.9269</td>\n",
       "      <td>2021-06-25</td>\n",
       "    </tr>\n",
       "    <tr>\n",
       "      <th>3</th>\n",
       "      <td>2021-09-20T15:52:05Z</td>\n",
       "      <td>Elon Musk Fails To Get Buyer For $37.5M Bay Ar...</td>\n",
       "      <td>23013145</td>\n",
       "      <td>Elon Musk has taken his “last remaining house”...</td>\n",
       "      <td>-0.9724</td>\n",
       "      <td>2021-09-20</td>\n",
       "    </tr>\n",
       "    <tr>\n",
       "      <th>4</th>\n",
       "      <td>2021-11-02T20:43:25Z</td>\n",
       "      <td>This Psychedelics Stock Was Up More Than 20% L...</td>\n",
       "      <td>23838896</td>\n",
       "      <td>Psychedelics have picked up more and more mome...</td>\n",
       "      <td>0.9995</td>\n",
       "      <td>2021-11-02</td>\n",
       "    </tr>\n",
       "  </tbody>\n",
       "</table>\n",
       "</div>"
      ],
      "text/plain": [
       "             created_at                                           headline  \\\n",
       "0  2021-03-19T07:16:36Z  NFT Craze A Reminder Of Tulip Mania? Keep Calm...   \n",
       "1  2021-04-08T14:02:55Z  Facebook Beta Tests Hotline, Its Answer To Clu...   \n",
       "2  2021-06-25T16:30:26Z  Did Billionaire Elon Musk Sell All His Mansion...   \n",
       "3  2021-09-20T15:52:05Z  Elon Musk Fails To Get Buyer For $37.5M Bay Ar...   \n",
       "4  2021-11-02T20:43:25Z  This Psychedelics Stock Was Up More Than 20% L...   \n",
       "\n",
       "         id                                            summary  \\\n",
       "0  20249346  The non-fungible tokens are mirroring a period...   \n",
       "1  20538582  Facebook, Inc. (NASDAQ: FB) is beta testing Ho...   \n",
       "2  21714362  Despite a wealth of $162.8 billion and title o...   \n",
       "3  23013145  Elon Musk has taken his “last remaining house”...   \n",
       "4  23838896  Psychedelics have picked up more and more mome...   \n",
       "\n",
       "   sentiment_score        date  \n",
       "0           0.0000  2021-03-19  \n",
       "1           0.0000  2021-04-08  \n",
       "2          -0.9269  2021-06-25  \n",
       "3          -0.9724  2021-09-20  \n",
       "4           0.9995  2021-11-02  "
      ]
     },
     "execution_count": 16,
     "metadata": {},
     "output_type": "execute_result"
    }
   ],
   "source": [
    "news_data.head()"
   ]
  },
  {
   "cell_type": "code",
   "execution_count": 20,
   "id": "d83cc7a0-0dc3-467d-8b27-b595fb848ad3",
   "metadata": {},
   "outputs": [],
   "source": [
    "news_sentiment_score = news_data.drop(columns = ['created_at', 'headline', 'id', 'summary'])"
   ]
  },
  {
   "cell_type": "code",
   "execution_count": 24,
   "id": "a9d7edff-78cb-4615-af2a-33808f425ef3",
   "metadata": {},
   "outputs": [
    {
     "data": {
      "text/plain": [
       "date\n",
       "2024-07-24    59\n",
       "2024-04-24    57\n",
       "2024-01-25    54\n",
       "2024-04-23    48\n",
       "2024-04-29    45\n",
       "              ..\n",
       "2024-05-26     1\n",
       "2023-12-31     1\n",
       "2024-01-14     1\n",
       "2024-03-03     1\n",
       "2021-03-19     1\n",
       "Name: count, Length: 270, dtype: int64"
      ]
     },
     "execution_count": 24,
     "metadata": {},
     "output_type": "execute_result"
    }
   ],
   "source": [
    "news_sentiment_score['date'].value_counts()"
   ]
  },
  {
   "cell_type": "code",
   "execution_count": 42,
   "id": "a312f308-3e81-400d-b5de-cb6d19046548",
   "metadata": {},
   "outputs": [
    {
     "name": "stdout",
     "output_type": "stream",
     "text": [
      "          date  sentiment_score\n",
      "0   2021-03-19         0.000000\n",
      "1   2021-04-08         0.000000\n",
      "2   2021-06-25        -0.926900\n",
      "3   2021-09-20        -0.972400\n",
      "4   2021-11-02         0.999500\n",
      "..         ...              ...\n",
      "265 2024-07-27         0.333100\n",
      "266 2024-07-28         0.037300\n",
      "267 2024-07-29         0.189046\n",
      "268 2024-07-30        -0.169089\n",
      "269 2024-07-31         0.361750\n",
      "\n",
      "[270 rows x 2 columns]\n"
     ]
    }
   ],
   "source": [
    "def average_sentiment_scores(df):\n",
    "\n",
    "    # Ensure the date column is of datetime type\n",
    "    df['date'] = pd.to_datetime(df['date'])\n",
    "\n",
    "    # Group by the date and calculate the mean sentiment score\n",
    "    df_avg = df.groupby('date', as_index=False)['sentiment_score'].mean()\n",
    "\n",
    "    return df_avg\n",
    "\n",
    "# using the function \n",
    "daily_sentiment = average_sentiment_scores(news_sentiment_score)\n",
    "\n",
    "# Display the DataFrame with averaged sentiment scores\n",
    "print(daily_sentiment)\n",
    "daily_sentiment2 = daily_sentiment"
   ]
  },
  {
   "cell_type": "code",
   "execution_count": 44,
   "id": "b41296cd-80bf-4d42-a166-dcf5ea5732ae",
   "metadata": {},
   "outputs": [],
   "source": [
    "# Set the 'date' column as the index\n",
    "daily_sentiment2.set_index('date', inplace=True)\n",
    "daily_sentiment2.sort_index(inplace=True)"
   ]
  },
  {
   "cell_type": "code",
   "execution_count": 56,
   "id": "86943d9d-2885-47c7-b6ce-75d62640ea14",
   "metadata": {},
   "outputs": [
    {
     "data": {
      "image/png": "[encoded data removed]",
      "text/plain": [
       "<Figure size 1600x800 with 1 Axes>"
      ]
     },
     "metadata": {},
     "output_type": "display_data"
    }
   ],
   "source": [
    "# Plot the sentiment scores over time\n",
    "import matplotlib.pyplot as plt\n",
    "plt.figure(figsize=(16, 8))\n",
    "plt.plot(daily_sentiment2.index, daily_sentiment2['sentiment_score'], label='sentiment')\n",
    "plt.title('Sentiment Score Over Time')\n",
    "plt.xlabel('Date')\n",
    "plt.ylabel('Sentiment Score')\n",
    "plt.legend(loc='lower right')\n",
    "plt.show()"
   ]
  },
  {
   "cell_type": "code",
   "execution_count": 64,
   "id": "9e07e2f3-4fb7-4992-a2f8-2a5e6532f6d5",
   "metadata": {},
   "outputs": [],
   "source": [
    "# Drop rows as the gap is very high\n",
    "daily_sentiment = daily_sentiment.iloc[11:]"
   ]
  },
  {
   "cell_type": "code",
   "execution_count": 68,
   "id": "fa5dc592-dc08-40ec-9090-b7e79abcf0db",
   "metadata": {},
   "outputs": [],
   "source": [
    "daily_sentiment.to_csv('daily_sentiment_scores.csv')"
   ]
  },
  {
   "cell_type": "code",
   "execution_count": null,
   "id": "59b60332-30c7-4d48-8d75-35a0b910c5b8",
   "metadata": {},
   "outputs": [],
   "source": []
  }
 ],
 "metadata": {
  "kernelspec": {
   "display_name": "Python 3 (ipykernel)",
   "language": "python",
   "name": "python3"
  },
  "language_info": {
   "codemirror_mode": {
    "name": "ipython",
    "version": 3
   },
   "file_extension": ".py",
   "mimetype": "text/x-python",
   "name": "python",
   "nbconvert_exporter": "python",
   "pygments_lexer": "ipython3",
   "version": "3.12.4"
  }
 },
 "nbformat": 4,
 "nbformat_minor": 5
}
